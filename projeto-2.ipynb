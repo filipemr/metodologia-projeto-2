{
 "cells": [
  {
   "cell_type": "markdown",
   "source": [
    "# Imports"
   ],
   "metadata": {
    "collapsed": false
   }
  },
  {
   "cell_type": "code",
   "execution_count": 56,
   "metadata": {
    "collapsed": true
   },
   "outputs": [],
   "source": [
    "import pandas as pd\n",
    "import matplotlib.pyplot as plt"
   ]
  },
  {
   "cell_type": "markdown",
   "source": [
    "# Datasets"
   ],
   "metadata": {
    "collapsed": false
   }
  },
  {
   "cell_type": "code",
   "execution_count": 57,
   "outputs": [],
   "source": [
    "histogram_df = pd.read_csv('./datasets/brazil_economy_indicators.csv')"
   ],
   "metadata": {
    "collapsed": false
   }
  },
  {
   "cell_type": "markdown",
   "source": [
    "# Histograma - Taxa de desemprego no Brasil"
   ],
   "metadata": {
    "collapsed": false
   }
  },
  {
   "cell_type": "markdown",
   "source": [
    "### Remoção de NAN"
   ],
   "metadata": {
    "collapsed": false
   }
  },
  {
   "cell_type": "code",
   "execution_count": 58,
   "outputs": [
    {
     "name": "stdout",
     "output_type": "stream",
     "text": [
      "<class 'pandas.core.frame.DataFrame'>\n",
      "RangeIndex: 121 entries, 0 to 120\n",
      "Data columns (total 17 columns):\n",
      " #   Column          Non-Null Count  Dtype  \n",
      "---  ------          --------------  -----  \n",
      " 0   date            121 non-null    object \n",
      " 1   econ_act        117 non-null    float64\n",
      " 2   unemploy        117 non-null    float64\n",
      " 3   credit_cost     114 non-null    float64\n",
      " 4   ent_debt        113 non-null    float64\n",
      " 5   peo_debt        113 non-null    float64\n",
      " 6   perm_ext_inv    117 non-null    float64\n",
      " 7   bal_comex       117 non-null    float64\n",
      " 8   int_reserves    118 non-null    float64\n",
      " 9   nom_res         118 non-null    float64\n",
      " 10  prim_res        118 non-null    float64\n",
      " 11  gross_debt_gov  119 non-null    float64\n",
      " 12  net_debt_gov    119 non-null    float64\n",
      " 13  int_inv_pos     118 non-null    float64\n",
      " 14  inflation       121 non-null    float64\n",
      " 15  interest_rate   121 non-null    float64\n",
      " 16  usd_brl         121 non-null    float64\n",
      "dtypes: float64(16), object(1)\n",
      "memory usage: 16.2+ KB\n"
     ]
    }
   ],
   "source": [
    "histogram_df.info()"
   ],
   "metadata": {
    "collapsed": false
   }
  },
  {
   "cell_type": "code",
   "execution_count": 59,
   "outputs": [],
   "source": [
    "histogram_df.dropna(subset=['unemploy'], inplace=True)"
   ],
   "metadata": {
    "collapsed": false
   }
  },
  {
   "cell_type": "markdown",
   "source": [
    "### Construção do histograma"
   ],
   "metadata": {
    "collapsed": false
   }
  },
  {
   "cell_type": "code",
   "execution_count": 60,
   "outputs": [
    {
     "data": {
      "text/plain": "Text(0, 0.5, 'Frequência')"
     },
     "execution_count": 60,
     "metadata": {},
     "output_type": "execute_result"
    },
    {
     "data": {
      "text/plain": "<Figure size 640x480 with 1 Axes>",
      "image/png": "[encoded data removed]"
     },
     "metadata": {},
     "output_type": "display_data"
    }
   ],
   "source": [
    "plt.hist(histogram_df['unemploy'], rwidth=0.9)\n",
    "plt.title('Taxa de desemprego no Brasil')\n",
    "plt.xlabel('Taxa de desemprego')\n",
    "plt.ylabel('Frequência')"
   ],
   "metadata": {
    "collapsed": false
   }
  }
 ],
 "metadata": {
  "kernelspec": {
   "display_name": "Python 3",
   "language": "python",
   "name": "python3"
  },
  "language_info": {
   "codemirror_mode": {
    "name": "ipython",
    "version": 2
   },
   "file_extension": ".py",
   "mimetype": "text/x-python",
   "name": "python",
   "nbconvert_exporter": "python",
   "pygments_lexer": "ipython2",
   "version": "2.7.6"
  }
 },
 "nbformat": 4,
 "nbformat_minor": 0
}
